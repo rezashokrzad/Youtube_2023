{
  "cells": [
    {
      "cell_type": "markdown",
      "source": [
        "# Efficient Coding | Time and Memory Management"
      ],
      "metadata": {
        "id": "uJPHR2i-3Jbp"
      }
    },
    {
      "cell_type": "code",
      "execution_count": 16,
      "metadata": {
        "id": "lIYdn1woOS1n"
      },
      "outputs": [],
      "source": [
        "import pandas as pd\n",
        "import numpy as np"
      ]
    },
    {
      "cell_type": "code",
      "source": [
        "#create dataset\n",
        "def create_df(size=1000):\n",
        "  df = pd.DataFrame()\n",
        "  df['league'] = np.random.choice(['L1', 'L2', 'L3'], size=size)\n",
        "  df['age'] = np.random.randint(15, 45, size)\n",
        "  df['team_strip'] = np.random.choice(['blue', 'green', 'red', 'yellow', 'black'], size)\n",
        "  df['prob'] = np.random.uniform(0,1,size)\n",
        "  df['win'] = np.random.choice(['yes', 'no'], size)\n",
        "  return df"
      ],
      "metadata": {
        "id": "dDp5cB-t99LM"
      },
      "execution_count": 19,
      "outputs": []
    },
    {
      "cell_type": "code",
      "source": [
        "df = create_df(10_000_000)\n",
        "df.info()"
      ],
      "metadata": {
        "colab": {
          "base_uri": "https://localhost:8080/"
        },
        "id": "sLKZKMF7-7Nv",
        "outputId": "87174036-f8b5-497f-a260-969c994d1e04"
      },
      "execution_count": 38,
      "outputs": [
        {
          "output_type": "stream",
          "name": "stdout",
          "text": [
            "<class 'pandas.core.frame.DataFrame'>\n",
            "RangeIndex: 10000000 entries, 0 to 9999999\n",
            "Data columns (total 5 columns):\n",
            " #   Column      Dtype  \n",
            "---  ------      -----  \n",
            " 0   league      object \n",
            " 1   age         int64  \n",
            " 2   team_strip  object \n",
            " 3   prob        float64\n",
            " 4   win         object \n",
            "dtypes: float64(1), int64(1), object(3)\n",
            "memory usage: 381.5+ MB\n"
          ]
        }
      ]
    },
    {
      "cell_type": "code",
      "source": [
        "%timeit df.groupby(['team_strip', 'league'])['age'].rank()\n",
        "%timeit df.groupby(['team_strip', 'league'])['prob'].rank()\n",
        "%timeit df.groupby(['team_strip', 'league', 'win'])['prob'].rank()"
      ],
      "metadata": {
        "colab": {
          "base_uri": "https://localhost:8080/"
        },
        "id": "vXjTTbn7_I0M",
        "outputId": "a6c804db-8bc0-4741-f58d-daff6ea69436"
      },
      "execution_count": 39,
      "outputs": [
        {
          "output_type": "stream",
          "name": "stdout",
          "text": [
            "6.58 s ± 982 ms per loop (mean ± std. dev. of 7 runs, 1 loop each)\n",
            "8.26 s ± 192 ms per loop (mean ± std. dev. of 7 runs, 1 loop each)\n",
            "9.4 s ± 469 ms per loop (mean ± std. dev. of 7 runs, 1 loop each)\n"
          ]
        }
      ]
    },
    {
      "cell_type": "code",
      "source": [
        "df['team_strip'] = df['team_strip'].astype('category')\n",
        "df.info()"
      ],
      "metadata": {
        "colab": {
          "base_uri": "https://localhost:8080/"
        },
        "id": "zko2Bz_-_k0a",
        "outputId": "c1318172-19f5-4c6e-e498-ef86893e583e"
      },
      "execution_count": 40,
      "outputs": [
        {
          "output_type": "stream",
          "name": "stdout",
          "text": [
            "<class 'pandas.core.frame.DataFrame'>\n",
            "RangeIndex: 10000000 entries, 0 to 9999999\n",
            "Data columns (total 5 columns):\n",
            " #   Column      Dtype   \n",
            "---  ------      -----   \n",
            " 0   league      object  \n",
            " 1   age         int64   \n",
            " 2   team_strip  category\n",
            " 3   prob        float64 \n",
            " 4   win         object  \n",
            "dtypes: category(1), float64(1), int64(1), object(2)\n",
            "memory usage: 314.7+ MB\n"
          ]
        }
      ]
    },
    {
      "cell_type": "code",
      "source": [
        "df['league'] = df['league'].astype('category')\n",
        "df['win'] = df['win'].astype('category')\n",
        "df.info()"
      ],
      "metadata": {
        "colab": {
          "base_uri": "https://localhost:8080/"
        },
        "id": "jTPg5aK2AFFf",
        "outputId": "c35d182d-d15e-4677-ba65-6ac87e2baae7"
      },
      "execution_count": 41,
      "outputs": [
        {
          "output_type": "stream",
          "name": "stdout",
          "text": [
            "<class 'pandas.core.frame.DataFrame'>\n",
            "RangeIndex: 10000000 entries, 0 to 9999999\n",
            "Data columns (total 5 columns):\n",
            " #   Column      Dtype   \n",
            "---  ------      -----   \n",
            " 0   league      category\n",
            " 1   age         int64   \n",
            " 2   team_strip  category\n",
            " 3   prob        float64 \n",
            " 4   win         category\n",
            "dtypes: category(3), float64(1), int64(1)\n",
            "memory usage: 181.2 MB\n"
          ]
        }
      ]
    },
    {
      "cell_type": "markdown",
      "source": [
        "## Int Downcasting \n",
        "- int8 [-128, 127]\n",
        "- int16 [-32768, 32767]\n",
        "- int64 [-9223772036854785808, 9223772036854785807]"
      ],
      "metadata": {
        "id": "a92KNurWAQFl"
      }
    },
    {
      "cell_type": "code",
      "source": [
        "df['age'] = df['age'].astype('int8')\n",
        "df.info()"
      ],
      "metadata": {
        "colab": {
          "base_uri": "https://localhost:8080/"
        },
        "id": "mbajz6hHAPwS",
        "outputId": "cdee73d5-d2ef-4837-9242-6e7a92a95da8"
      },
      "execution_count": 42,
      "outputs": [
        {
          "output_type": "stream",
          "name": "stdout",
          "text": [
            "<class 'pandas.core.frame.DataFrame'>\n",
            "RangeIndex: 10000000 entries, 0 to 9999999\n",
            "Data columns (total 5 columns):\n",
            " #   Column      Dtype   \n",
            "---  ------      -----   \n",
            " 0   league      category\n",
            " 1   age         int8    \n",
            " 2   team_strip  category\n",
            " 3   prob        float64 \n",
            " 4   win         category\n",
            "dtypes: category(3), float64(1), int8(1)\n",
            "memory usage: 114.4 MB\n"
          ]
        }
      ]
    },
    {
      "cell_type": "markdown",
      "source": [
        "## Float downcasting"
      ],
      "metadata": {
        "id": "2999-5KlAv8e"
      }
    },
    {
      "cell_type": "code",
      "source": [
        "df['prob'] = df['prob'].astype('float16')\n",
        "df.info()"
      ],
      "metadata": {
        "colab": {
          "base_uri": "https://localhost:8080/"
        },
        "id": "vHEDx1QfAN4g",
        "outputId": "d70a2bd3-8411-4745-816c-882ad326e620"
      },
      "execution_count": 43,
      "outputs": [
        {
          "output_type": "stream",
          "name": "stdout",
          "text": [
            "<class 'pandas.core.frame.DataFrame'>\n",
            "RangeIndex: 10000000 entries, 0 to 9999999\n",
            "Data columns (total 5 columns):\n",
            " #   Column      Dtype   \n",
            "---  ------      -----   \n",
            " 0   league      category\n",
            " 1   age         int8    \n",
            " 2   team_strip  category\n",
            " 3   prob        float16 \n",
            " 4   win         category\n",
            "dtypes: category(3), float16(1), int8(1)\n",
            "memory usage: 57.2 MB\n"
          ]
        }
      ]
    },
    {
      "cell_type": "markdown",
      "source": [
        "## Bool type casting"
      ],
      "metadata": {
        "id": "tPOhhYvyBCjs"
      }
    },
    {
      "cell_type": "code",
      "source": [
        "df['win'].map({'yes': True, 'no': False})\n",
        "df.info()"
      ],
      "metadata": {
        "colab": {
          "base_uri": "https://localhost:8080/"
        },
        "id": "_V0ENKnxBGqA",
        "outputId": "19648b6f-c33e-4157-a1f4-8777690d4faf"
      },
      "execution_count": 44,
      "outputs": [
        {
          "output_type": "stream",
          "name": "stdout",
          "text": [
            "<class 'pandas.core.frame.DataFrame'>\n",
            "RangeIndex: 10000000 entries, 0 to 9999999\n",
            "Data columns (total 5 columns):\n",
            " #   Column      Dtype   \n",
            "---  ------      -----   \n",
            " 0   league      category\n",
            " 1   age         int8    \n",
            " 2   team_strip  category\n",
            " 3   prob        float16 \n",
            " 4   win         category\n",
            "dtypes: category(3), float16(1), int8(1)\n",
            "memory usage: 57.2 MB\n"
          ]
        }
      ]
    },
    {
      "cell_type": "code",
      "source": [
        "%timeit df.groupby(['team_strip', 'league'])['age'].rank()\n",
        "%timeit df.groupby(['team_strip', 'league'])['prob'].rank()\n",
        "%timeit df.groupby(['team_strip', 'league', 'win'])['prob'].rank()"
      ],
      "metadata": {
        "colab": {
          "base_uri": "https://localhost:8080/"
        },
        "id": "gVby-N_gBHux",
        "outputId": "2bfcf29a-901a-4a26-985c-4abfcf6e36d8"
      },
      "execution_count": 45,
      "outputs": [
        {
          "output_type": "stream",
          "name": "stdout",
          "text": [
            "3.76 s ± 240 ms per loop (mean ± std. dev. of 7 runs, 1 loop each)\n",
            "6.34 s ± 404 ms per loop (mean ± std. dev. of 7 runs, 1 loop each)\n",
            "6.63 s ± 401 ms per loop (mean ± std. dev. of 7 runs, 1 loop each)\n"
          ]
        }
      ]
    }
  ],
  "metadata": {
    "colab": {
      "provenance": []
    },
    "kernelspec": {
      "display_name": "Python 3",
      "name": "python3"
    }
  },
  "nbformat": 4,
  "nbformat_minor": 0
}